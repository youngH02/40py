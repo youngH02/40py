{
 "cells": [
  {
   "cell_type": "code",
   "execution_count": 1,
   "metadata": {},
   "outputs": [
    {
     "name": "stdout",
     "output_type": "stream",
     "text": [
      "hello\n"
     ]
    }
   ],
   "source": [
    "#주석입니다.\n",
    "#사용자 설명 코드 입니다.\n",
    "\n",
    "print(\"hello\") # 코드의 줄 끝에 사용할수 있습니다."
   ]
  },
  {
   "cell_type": "code",
   "execution_count": 9,
   "metadata": {},
   "outputs": [
    {
     "name": "stdout",
     "output_type": "stream",
     "text": [
      "hi\n"
     ]
    }
   ],
   "source": [
    "#print(\"hello\")\n",
    "print(\"hi\")"
   ]
  },
  {
   "cell_type": "code",
   "execution_count": 3,
   "metadata": {},
   "outputs": [
    {
     "data": {
      "text/plain": [
       "'\\n여러줄을 입력할때는 \\n쌍따옴표 3개로 시작하고 \\n쌍따옴표 3개로 종료하면 \\n여러줄을 입력할 수 있습니다.\\n'"
      ]
     },
     "execution_count": 3,
     "metadata": {},
     "output_type": "execute_result"
    }
   ],
   "source": [
    "\"\"\"\n",
    "여러줄을 입력할때는 \n",
    "쌍따옴표 3개로 시작하고 \n",
    "쌍따옴표 3개로 종료하면 \n",
    "여러줄을 입력할 수 있습니다.\n",
    "\"\"\""
   ]
  },
  {
   "cell_type": "code",
   "execution_count": 4,
   "metadata": {},
   "outputs": [
    {
     "data": {
      "text/plain": [
       "'\\n또는 여러줄을 입력할때는 \\n따옴표 3개로 시작하고 \\n따옴표 3개로 종료하면 \\n여러줄을 입력할 수 있습니다.\\n'"
      ]
     },
     "execution_count": 4,
     "metadata": {},
     "output_type": "execute_result"
    }
   ],
   "source": [
    "'''\n",
    "또는 여러줄을 입력할때는 \n",
    "따옴표 3개로 시작하고 \n",
    "따옴표 3개로 종료하면 \n",
    "여러줄을 입력할 수 있습니다.\n",
    "'''"
   ]
  },
  {
   "cell_type": "code",
   "execution_count": 8,
   "metadata": {},
   "outputs": [
    {
     "name": "stdout",
     "output_type": "stream",
     "text": [
      "\n",
      "여러줄의\n",
      "문자열을 입력할때도 \n",
      "쌍따옴표 또는 따옴표 \n",
      "3개를 사용할수 있습니다.\n",
      "\n"
     ]
    }
   ],
   "source": [
    "a_str = \"\"\"\n",
    "여러줄의\n",
    "문자열을 입력할때도 \n",
    "쌍따옴표 또는 따옴표 \n",
    "3개를 사용할수 있습니다.\n",
    "\"\"\"\n",
    "print(a_str)"
   ]
  },
  {
   "cell_type": "code",
   "execution_count": 7,
   "metadata": {},
   "outputs": [
    {
     "name": "stdout",
     "output_type": "stream",
     "text": [
      "3\n"
     ]
    }
   ],
   "source": [
    "#여러줄을 마우스로 드래그 하여 선택 후 [컨트롤 + /] 로 주석처리 할수 있습니다.\n",
    "#다시 주석을 해제할때는 # 주석처리된 코드에서 [컨트롤 + /] 로 주석을 해제 할수 있습니다.\n",
    "\n",
    "# a = 1\n",
    "# b = 2\n",
    "# print(a + b)"
   ]
  }
 ],
 "metadata": {
  "interpreter": {
   "hash": "b3ba2566441a7c06988d0923437866b63cedc61552a5af99d1f4fb67d367b25f"
  },
  "kernelspec": {
   "display_name": "Python 3.8.8 64-bit ('base': conda)",
   "language": "python",
   "name": "python3"
  },
  "language_info": {
   "codemirror_mode": {
    "name": "ipython",
    "version": 3
   },
   "file_extension": ".py",
   "mimetype": "text/x-python",
   "name": "python",
   "nbconvert_exporter": "python",
   "pygments_lexer": "ipython3",
   "version": "3.8.8"
  },
  "orig_nbformat": 4
 },
 "nbformat": 4,
 "nbformat_minor": 2
}
