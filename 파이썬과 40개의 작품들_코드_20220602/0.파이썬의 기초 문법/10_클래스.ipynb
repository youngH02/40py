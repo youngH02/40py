{
 "cells": [
  {
   "cell_type": "code",
   "execution_count": 4,
   "metadata": {},
   "outputs": [
    {
     "name": "stdout",
     "output_type": "stream",
     "text": [
      "hello\n",
      "hi\n",
      "hello\n",
      "hi\n"
     ]
    }
   ],
   "source": [
    "class Greet():\n",
    "    def hello(self):\n",
    "        print(\"hello\")\n",
    "    \n",
    "    def hi(self):\n",
    "        print(\"hi\")\n",
    "\n",
    "human1 = Greet()\n",
    "human2 = Greet()\n",
    "\n",
    "human1.hello()\n",
    "human1.hi()\n",
    "\n",
    "human2.hello()\n",
    "human2.hi()"
   ]
  },
  {
   "cell_type": "code",
   "execution_count": 8,
   "metadata": {},
   "outputs": [
    {
     "name": "stdout",
     "output_type": "stream",
     "text": [
      "이름:김철수, 나이:17, 좋아하는것:축구\n",
      "이름:장다인, 나이:5, 좋아하는것:헬로카봇\n"
     ]
    }
   ],
   "source": [
    "class Student():\n",
    "    def __init__(self,name,age,like):\n",
    "        self.name = name\n",
    "        self.age = age\n",
    "        self.like = like\n",
    "\n",
    "    def studentInfo(self):\n",
    "        print(f\"이름:{self.name}, 나이:{self.age}, 좋아하는것:{self.like}\")\n",
    "\n",
    "\n",
    "김철수 = Student(\"김철수\",17,\"축구\")\n",
    "장다인 = Student(\"장다인\",5,\"헬로카봇\")\n",
    "\n",
    "김철수.studentInfo()\n",
    "장다인.studentInfo()"
   ]
  },
  {
   "cell_type": "code",
   "execution_count": 12,
   "metadata": {},
   "outputs": [
    {
     "name": "stdout",
     "output_type": "stream",
     "text": [
      "엄마는\n",
      "키가 크다.\n",
      "공부를 잘한다.\n",
      "딸은\n",
      "키가 크다.\n",
      "공부를 잘한다.\n",
      "운동을 잘한다.\n"
     ]
    }
   ],
   "source": [
    "class Mother():\n",
    "    def characteristic(self):\n",
    "        print(\"키가 크다.\")\n",
    "        print(\"공부를 잘한다.\")\n",
    "\n",
    "class Daughter(Mother):\n",
    "    def characteristic(self):\n",
    "        super().characteristic()\n",
    "        print(\"운동을 잘한다.\")\n",
    "\n",
    "엄마 = Mother()\n",
    "딸 = Daughter()\n",
    "\n",
    "print(\"엄마는\")\n",
    "엄마.characteristic()\n",
    "print(\"딸은\")\n",
    "딸.characteristic()\n"
   ]
  },
  {
   "cell_type": "code",
   "execution_count": 13,
   "metadata": {},
   "outputs": [
    {
     "name": "stdout",
     "output_type": "stream",
     "text": [
      "엄마는\n",
      "키가 크다.\n",
      "공부를 잘한다.\n",
      "딸은\n",
      "키가 크다.\n",
      "공부를 잘한다.\n",
      "운동을 잘한다.\n"
     ]
    }
   ],
   "source": [
    "class Mother():\n",
    "    def __init__(self):\n",
    "        print(\"키가 크다.\")\n",
    "        print(\"공부를 잘한다.\")\n",
    "\n",
    "class Daughter(Mother):\n",
    "    def __init__(self):\n",
    "        super().__init__()\n",
    "        print(\"운동을 잘한다.\")\n",
    "\n",
    "print(\"엄마는\")\n",
    "엄마 = Mother()\n",
    "print(\"딸은\")\n",
    "딸 = Daughter()\n"
   ]
  }
 ],
 "metadata": {
  "interpreter": {
   "hash": "b3ba2566441a7c06988d0923437866b63cedc61552a5af99d1f4fb67d367b25f"
  },
  "kernelspec": {
   "display_name": "Python 3.8.8 64-bit ('base': conda)",
   "language": "python",
   "name": "python3"
  },
  "language_info": {
   "codemirror_mode": {
    "name": "ipython",
    "version": 3
   },
   "file_extension": ".py",
   "mimetype": "text/x-python",
   "name": "python",
   "nbconvert_exporter": "python",
   "pygments_lexer": "ipython3",
   "version": "3.8.8"
  },
  "orig_nbformat": 4
 },
 "nbformat": 4,
 "nbformat_minor": 2
}
