{
 "cells": [
  {
   "cell_type": "code",
   "execution_count": 1,
   "metadata": {},
   "outputs": [
    {
     "name": "stderr",
     "output_type": "stream",
     "text": [
      "\n",
      "\n",
      "====== WebDriver manager ======\n",
      "Current google-chrome version is 96.0.4664\n",
      "Get LATEST chromedriver version for 96.0.4664 google-chrome\n",
      "Driver [C:\\Users\\jangwork\\.wdm\\drivers\\chromedriver\\win32\\96.0.4664.45\\chromedriver.exe] found in cache\n",
      "<ipython-input-1-ef3f1cc6ab0f>:4: DeprecationWarning: executable_path has been deprecated, please pass in a Service object\n",
      "  driver = webdriver.Chrome(ChromeDriverManager().install())\n"
     ]
    }
   ],
   "source": [
    "from webdriver_manager.chrome import ChromeDriverManager\n",
    "from selenium import webdriver\n",
    "\n",
    "driver = webdriver.Chrome(ChromeDriverManager().install())\n",
    "\n",
    "driver.get(url='https://www.ppomppu.co.kr/zboard/zboard.php?id=ppomppu')\n",
    "\n",
    "driver.implicitly_wait(time_to_wait=10)"
   ]
  },
  {
   "cell_type": "code",
   "execution_count": 2,
   "metadata": {},
   "outputs": [
    {
     "name": "stderr",
     "output_type": "stream",
     "text": [
      "<ipython-input-2-79798dd07468>:1: DeprecationWarning: find_elements_by_* commands are deprecated. Please use find_elements() instead\n",
      "  titles = driver.find_elements_by_css_selector('#revolution_main_table > tbody > tr > td:nth-child(3) > table > tbody > tr > td:nth-child(2) > div > a > font')\n",
      "<ipython-input-2-79798dd07468>:2: DeprecationWarning: find_elements_by_* commands are deprecated. Please use find_elements() instead\n",
      "  urls = driver.find_elements_by_css_selector('#revolution_main_table > tbody > tr > td:nth-child(3) > table > tbody > tr > td:nth-child(2) > div > a')\n"
     ]
    },
    {
     "name": "stdout",
     "output_type": "stream",
     "text": [
      "[컬쳐랜드] PASS PAY 10% 캐쉬백 (50000/0) SKT 사용자만 가능\n",
      "https://www.ppomppu.co.kr/zboard/view.php?id=ppomppu&page=1&divpage=69&no=405204\n",
      "[홈플러스] 일렉트로룩스 공기청정기 22평 (329,000원)\n",
      "https://www.ppomppu.co.kr/zboard/view.php?id=ppomppu&page=1&divpage=69&no=405203\n",
      "[쿠팡잇츠] 피자헛 15000원 할인 (최소 19900원)\n",
      "https://www.ppomppu.co.kr/zboard/view.php?id=ppomppu&page=1&divpage=69&no=405202\n",
      "[롯데홈쇼핑] LG 스탠바이미 (27ART10AKPL) (997,500/무료배송)\n",
      "https://www.ppomppu.co.kr/zboard/view.php?id=ppomppu&page=1&divpage=69&no=405201\n",
      "[위메프] 리스테린 100ml 샘플러 4종(쿨민트마일드2개/토탈케어플러스1개/그린티마일드1개) 총400ml (3,000/무배)\n",
      "https://www.ppomppu.co.kr/zboard/view.php?id=ppomppu&page=1&divpage=69&no=405200\n",
      "[위메프] 비비고 보쌈김치 400g x3개 (13,210/무료배송)\n",
      "https://www.ppomppu.co.kr/zboard/view.php?id=ppomppu&page=1&divpage=69&no=405199\n",
      "[정몰]한미 완전두유 블랙7 190mlX64팩(15,900원/무료)\n",
      "https://www.ppomppu.co.kr/zboard/view.php?id=ppomppu&page=1&divpage=69&no=405198\n",
      "[멸치쇼핑] 포항산홍게 3kg 10~12마리 내외 (11,940 원/무료)\n",
      "https://www.ppomppu.co.kr/zboard/view.php?id=ppomppu&page=1&divpage=69&no=405197\n",
      "[G마켓] 21년 햅쌀 강화섬쌀 참드림 10kg + 10kg (52,030/무료배송)\n",
      "https://www.ppomppu.co.kr/zboard/view.php?id=ppomppu&page=1&divpage=69&no=405196\n",
      "[지마켓]한끼 간편 냉동 도시락 12팩(쿠폰가23900/무배)\n",
      "https://www.ppomppu.co.kr/zboard/view.php?id=ppomppu&page=1&divpage=69&no=405195\n",
      "[티몬] ASUS RT-AC59U V2 유무선공유기 (54,400/3,000) 우리카드49,400\n",
      "https://www.ppomppu.co.kr/zboard/view.php?id=ppomppu&page=1&divpage=69&no=405194\n",
      "[11번가] 삼성전자 비스포크 에어드레서 DF60A8500HG 의류관리기 (839,000/무료) 카드 적용시 79만대\n",
      "https://www.ppomppu.co.kr/zboard/view.php?id=ppomppu&page=1&divpage=69&no=405193\n",
      "[롯데온] 도서문화상품권 5만원권 (46,000/무료)\n",
      "https://www.ppomppu.co.kr/zboard/view.php?id=ppomppu&page=1&divpage=69&no=405192\n",
      "[홈플러스온라인] 안심한우 등심(1등급) 100G/6913원 (4만이상/무배)\n",
      "https://www.ppomppu.co.kr/zboard/view.php?id=ppomppu&page=1&divpage=69&no=405191\n",
      "[SK스토아TV] 농심육개장사발면6입 (1000원/무료)\n",
      "https://www.ppomppu.co.kr/zboard/view.php?id=ppomppu&page=1&divpage=69&no=405190\n",
      "[정몰]매일 아몬드브리즈 950ml 10팩 (20190원/무료)\n",
      "https://www.ppomppu.co.kr/zboard/view.php?id=ppomppu&page=1&divpage=69&no=405189\n",
      "[지마켓] 아리조나 아이스티 레몬 500ml (1,950/착불)\n",
      "https://www.ppomppu.co.kr/zboard/view.php?id=ppomppu&page=1&divpage=69&no=405187\n",
      "[11번가] 기가바이트 AERO 15 OLED KD(1,899,000원/무료)\n",
      "https://www.ppomppu.co.kr/zboard/view.php?id=ppomppu&page=1&divpage=69&no=405186\n",
      "[쿠팡] 농심 육개장 6개입 (3,750/와우무료)\n",
      "https://www.ppomppu.co.kr/zboard/view.php?id=ppomppu&page=1&divpage=69&no=405185\n",
      "[G마켓] 맛있닭 닭가슴살 스테이크 오리지널 3kg(100gX30팩) (36,170/무료)(스마일클럽 26,900/무료)\n",
      "https://www.ppomppu.co.kr/zboard/view.php?id=ppomppu&page=1&divpage=69&no=405184\n"
     ]
    }
   ],
   "source": [
    "titles = driver.find_elements_by_css_selector('#revolution_main_table > tbody > tr > td:nth-child(3) > table > tbody > tr > td:nth-child(2) > div > a > font')\n",
    "urls = driver.find_elements_by_css_selector('#revolution_main_table > tbody > tr > td:nth-child(3) > table > tbody > tr > td:nth-child(2) > div > a')\n",
    "\n",
    "for i in range(len(titles)):\n",
    "    print(titles[i].text)\n",
    "    print(urls[i].get_attribute('href'))"
   ]
  },
  {
   "cell_type": "code",
   "execution_count": 3,
   "metadata": {},
   "outputs": [
    {
     "name": "stdout",
     "output_type": "stream",
     "text": [
      "[위메프] 비비고 보쌈김치 400g x3개 (13,210/무료배송)\n",
      "https://www.ppomppu.co.kr/zboard/view.php?id=ppomppu&page=1&divpage=69&no=405199\n"
     ]
    }
   ],
   "source": [
    "import telegram\n",
    "message = \"\"\n",
    "for i in range(len(titles)):\n",
    "    if \"김치\" in titles[i].text:\n",
    "        message = titles[i].text + \"\\n\" +urls[i].get_attribute('href')\n",
    "        print(message)\n",
    "        token = \"2147448681:AAF54C5_5U7nKqwKvwnbI9n4Dr6m5GmicbY\"\n",
    "        id = \"730238165\"\n",
    "        bot = telegram.Bot(token)\n",
    "        bot.sendMessage(chat_id=id, text=message)"
   ]
  }
 ],
 "metadata": {
  "interpreter": {
   "hash": "b3ba2566441a7c06988d0923437866b63cedc61552a5af99d1f4fb67d367b25f"
  },
  "kernelspec": {
   "display_name": "Python 3.8.8 64-bit ('base': conda)",
   "language": "python",
   "name": "python3"
  },
  "language_info": {
   "codemirror_mode": {
    "name": "ipython",
    "version": 3
   },
   "file_extension": ".py",
   "mimetype": "text/x-python",
   "name": "python",
   "nbconvert_exporter": "python",
   "pygments_lexer": "ipython3",
   "version": "3.8.8"
  },
  "orig_nbformat": 4
 },
 "nbformat": 4,
 "nbformat_minor": 2
}
