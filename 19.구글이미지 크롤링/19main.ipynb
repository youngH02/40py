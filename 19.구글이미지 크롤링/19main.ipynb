{
 "cells": [
  {
   "cell_type": "code",
   "execution_count": 1,
   "metadata": {},
   "outputs": [
    {
     "name": "stderr",
     "output_type": "stream",
     "text": [
      "/var/folders/pf/0w2pfxvx593256s1zylmpvhc0000gn/T/ipykernel_12427/2290777303.py:7: DeprecationWarning: executable_path has been deprecated, please pass in a Service object\n",
      "  driver = webdriver.Chrome(ChromeDriverManager().install())\n"
     ]
    }
   ],
   "source": [
    "#pip install selenium\n",
    "#pip install webdriver-manager\n",
    "\n",
    "from webdriver_manager.chrome import ChromeDriverManager\n",
    "from selenium import webdriver\n",
    "\n",
    "driver = webdriver.Chrome(ChromeDriverManager().install())\n",
    "\n",
    "URL = 'https://www.google.co.kr/imghp'\n",
    "driver.get(url=URL)\n",
    "\n",
    "driver.implicitly_wait(time_to_wait=10)\n"
   ]
  },
  {
   "cell_type": "code",
   "execution_count": null,
   "metadata": {},
   "outputs": [],
   "source": [
    "from selenium.webdriver.common.keys import Keys\n",
    "from selenium.webdriver.common.by import By\n",
    "\n",
    "# 구글 '검색'창의 (selector 추출) 안에 텍스트 입력하여 검색\n",
    "elem = driver.find_element(By.CSS_SELECTOR,\"body > div.L3eUgb > div.o3j99.ikrT4e.om7nvf > form > div:nth-child(1) > div.A8SBwf > div.RNNXgb > div > div.a4bIc > input\")\n",
    "elem.send_keys(\"바다\")\n",
    "elem.send_keys(Keys.RETURN)"
   ]
  },
  {
   "cell_type": "code",
   "execution_count": null,
   "metadata": {},
   "outputs": [],
   "source": [
    "import time\n",
    "elem = driver.find_element(By.TAG_NAME, \"body\")\n",
    "#페이지 넘겨가며 검색\n",
    "for i in range(30) : #페이지 다운키를 횟수만큼 반복하여 클릭\n",
    "  elem.send_keys(Keys.PAGE_DOWN)\n",
    "  time.sleep(0.1)\n",
    "\n",
    "try : # '결과 더보기' 버튼이 있으면 눌린 후 페이지 다운 반복\n",
    "  driver.find_element(By.CSS_SELECTOR, \"#islmp > div > div > div > div.gBPM8 > div.qvfT1 > div.YstHxe > input\").click()\n",
    "  for i in range(3) : \n",
    "    elem.send_keys(Keys.PAGE_DOWN)\n",
    "    time.sleep(0.1)\n",
    "except :\n",
    "  pass"
   ]
  },
  {
   "cell_type": "code",
   "execution_count": null,
   "metadata": {},
   "outputs": [
    {
     "name": "stdout",
     "output_type": "stream",
     "text": [
      "찾은 이미지 개수:  444\n"
     ]
    }
   ],
   "source": [
    "links = []\n",
    "images = driver.find_elements(By.CSS_SELECTOR, \"#islrg > div.islrc > div > a.wXeWr.islib.nfEiy > div.bRMDJf.islir > img\")\n",
    "\n",
    "#각 이미지 selector를 복사하면 다음과 같음\n",
    "#islrg > div.islrc > div:nth-child(456) > a.wXeWr.islib.nfEiy > div.bRMDJf.islir > img\n",
    "#islrg > div.islrc > div:nth-child(458) > a.wXeWr.islib.nfEiy > div.bRMDJf.islir > img\n",
    "# 여러개를 한번에 수집하기 위해 (div:nth-child(458)) -> div로 변경\n",
    "\n",
    "for image in images :\n",
    "  if image.get_attribute('src') is not None :\n",
    "    links.append(image.get_attribute('src'))\n",
    "\n",
    "print('찾은 이미지 개수: ', len(links))"
   ]
  },
  {
   "cell_type": "code",
   "execution_count": null,
   "metadata": {},
   "outputs": [
    {
     "name": "stdout",
     "output_type": "stream",
     "text": [
      "다운로드 완료하였습니다.\n"
     ]
    }
   ],
   "source": [
    "import urllib.request\n",
    "\n",
    "links = links[:3]\n",
    "for k,i in enumerate(links) :\n",
    "  url = i\n",
    "  urllib.request.urlretrieve(url, \"/Users/jyoung/study/40py/19.구글이미지 크롤링/\"+str(k)+\".jpg\")\n",
    "  #절대경로로 작성\n",
    "\n",
    "print(\"다운로드 완료하였습니다.\")"
   ]
  },
  {
   "cell_type": "markdown",
   "metadata": {},
   "source": [
    ".ipynb -> .py 로 변환\n",
    "\n",
    "pip install nbconvert\n",
    "$ jupyter nbconvert --to script 파일명.ipynb"
   ]
  }
 ],
 "metadata": {
  "kernelspec": {
   "display_name": "Python 3.9.13 64-bit",
   "language": "python",
   "name": "python3"
  },
  "language_info": {
   "codemirror_mode": {
    "name": "ipython",
    "version": 3
   },
   "file_extension": ".py",
   "mimetype": "text/x-python",
   "name": "python",
   "nbconvert_exporter": "python",
   "pygments_lexer": "ipython3",
   "version": "3.9.13"
  },
  "orig_nbformat": 4,
  "vscode": {
   "interpreter": {
    "hash": "949777d72b0d2535278d3dc13498b2535136f6dfe0678499012e853ee9abcab1"
   }
  }
 },
 "nbformat": 4,
 "nbformat_minor": 2
}
