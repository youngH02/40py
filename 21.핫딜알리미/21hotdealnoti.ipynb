{
 "cells": [
  {
   "cell_type": "code",
   "execution_count": 19,
   "metadata": {},
   "outputs": [],
   "source": [
    "#pip install selenium\n",
    "#pip install webdriver-manager\n",
    "#pip install python-telegram-bot"
   ]
  },
  {
   "cell_type": "code",
   "execution_count": 20,
   "metadata": {},
   "outputs": [
    {
     "name": "stdout",
     "output_type": "stream",
     "text": [
      "./106/chromedriver.exe\n",
      "install the chrome driver(ver: 106)\n"
     ]
    }
   ],
   "source": [
    "import chromedriver_autoinstaller\n",
    "\n",
    "chrome_ver = chromedriver_autoinstaller.get_chrome_version().split('.')[0]\n",
    "driver_path = f'./{chrome_ver}/chromedriver.exe'\n",
    "print(driver_path)\n",
    "if os.path.exists(driver_path) :\n",
    "  print(f'chrome driver is installed: {driver_path}')\n",
    "else :\n",
    "  print(f\"install the chrome driver(ver: {chrome_ver})\")\n",
    "  chromedriver_autoinstaller.install(True)\n"
   ]
  },
  {
   "cell_type": "code",
   "execution_count": 39,
   "metadata": {},
   "outputs": [
    {
     "name": "stderr",
     "output_type": "stream",
     "text": [
      "/var/folders/pf/0w2pfxvx593256s1zylmpvhc0000gn/T/ipykernel_28660/2927624069.py:6: DeprecationWarning: executable_path has been deprecated, please pass in a Service object\n",
      "  driver = webdriver.Chrome('./chromedriver')\n"
     ]
    }
   ],
   "source": [
    "from webdriver_manager.chrome import ChromeDriverManager\n",
    "from selenium import webdriver\n",
    "\n",
    "URL = 'https://www.ppomppu.co.kr/zboard/zboard.php?id=ppomppu'\n",
    "#driver = webdriver.Chrome(ChromeDriverManager().install())\n",
    "driver = webdriver.Chrome('./chromedriver')\n",
    "driver.get(url = URL)\n",
    "driver.implicitly_wait(time_to_wait=10)"
   ]
  },
  {
   "cell_type": "markdown",
   "metadata": {},
   "source": [
    "here is no such driver by url https://chromedriver.storage.googleapis.com/106.0.5249.61/chromedriver_mac64_m1.zip\n",
    "driver = webdriver.Chrome(ChromeDriverManager().install())\n",
    "driver = webdriver.Chrome('/Users/jyoung/Downloads/chromedriver')\n",
    "\n",
    "https://sites.google.com/chromium.org/driver/downloads"
   ]
  },
  {
   "cell_type": "code",
   "execution_count": 31,
   "metadata": {},
   "outputs": [
    {
     "name": "stdout",
     "output_type": "stream",
     "text": [
      "[지마켓]곱창돌김(10500/무료)\n",
      "https://www.ppomppu.co.kr/zboard/view.php?id=ppomppu&page=1&divpage=74&no=435526\n",
      "[하우스앱] 하만카돈 네오 IPX7 방수 스피커 (55,180원/무료배송)\n",
      "https://www.ppomppu.co.kr/zboard/view.php?id=ppomppu&page=1&divpage=74&no=435525\n",
      "[11번가] 칠성사이다 제로 355ml x 24캔 (17,900원/무배)\n",
      "https://www.ppomppu.co.kr/zboard/view.php?id=ppomppu&page=1&divpage=74&no=435524\n",
      "[위메프]전복 1키로10~12미(33100/무료)\n",
      "https://www.ppomppu.co.kr/zboard/view.php?id=ppomppu&page=1&divpage=74&no=435523\n",
      "[G마켓] 삼성 비스포크 직수형 냉온 정수기 RWP71411AAP(냉수/온수/정수) (919,000원/무료) 최종 799,000원\n",
      "https://www.ppomppu.co.kr/zboard/view.php?id=ppomppu&page=1&divpage=74&no=435522\n",
      "[11번가] 델 하이브리드 어댑터 2핀 (49,900/무료배송)\n",
      "https://www.ppomppu.co.kr/zboard/view.php?id=ppomppu&page=1&divpage=74&no=435521\n",
      "[G마켓] 생물 새우 1KG (22,900원/무료)\n",
      "https://www.ppomppu.co.kr/zboard/view.php?id=ppomppu&page=1&divpage=74&no=435520\n",
      "[쿠팡]MSI MAG B460M 박격포 /79,230원\n",
      "https://www.ppomppu.co.kr/zboard/view.php?id=ppomppu&page=1&divpage=74&no=435519\n",
      "[11번가] 삼성 SL-J1780W 컬러 잉크젯복합기 프린터 자동양면인쇄 복사 스캔 WiFi 잉크포함 (118,150원/무료)\n",
      "https://www.ppomppu.co.kr/zboard/view.php?id=ppomppu&page=1&divpage=74&no=435518\n",
      "[스팀] 쉐도우 오브 모르도르 + 쉐도우 오브 워 (10,800원/무료)\n",
      "https://www.ppomppu.co.kr/zboard/view.php?id=ppomppu&page=1&divpage=74&no=435517\n",
      "[롯데온] 펩시제로 eco 300ml 20펫 (14,620원/무료)\n",
      "https://www.ppomppu.co.kr/zboard/view.php?id=ppomppu&page=1&divpage=74&no=435516\n",
      "[쿠팡] 맥북프로16 2021 M1 PRO 16G/1TB 국민카드11%할인 (2,901,195원/무료)\n",
      "https://www.ppomppu.co.kr/zboard/view.php?id=ppomppu&page=1&divpage=74&no=435515\n",
      "[오늘의집] 삼성 스마트모니터 M5 S32BM500 32인치 (236,000원/무료)\n",
      "https://www.ppomppu.co.kr/zboard/view.php?id=ppomppu&page=1&divpage=74&no=435514\n",
      "[11번가] 매일두유 99.89 고단백 외 (다양/무료)\n",
      "https://www.ppomppu.co.kr/zboard/view.php?id=ppomppu&page=1&divpage=74&no=435512\n",
      "[G마켓] 비스포크 에어드레서 DF60A8500HG (955,320=>최대69.9만/무료배송)\n",
      "https://www.ppomppu.co.kr/zboard/view.php?id=ppomppu&page=1&divpage=74&no=435511\n",
      "[G마켓] 스너글 섬유유연제 허거블 코튼 4L + 리필1.5L + 섬유탈취제100ml + 키링 [16260원/무료]\n",
      "https://www.ppomppu.co.kr/zboard/view.php?id=ppomppu&page=1&divpage=74&no=435510\n",
      "[롯데온] 고당도 샤인머스켓 1.5kg 2~3수 (22,875원/무배)\n",
      "https://www.ppomppu.co.kr/zboard/view.php?id=ppomppu&page=1&divpage=74&no=435509\n",
      "[쿠팡]아브카 블랙헤어컬러 새치염색샴푸 (17,510/로켓)\n",
      "https://www.ppomppu.co.kr/zboard/view.php?id=ppomppu&page=1&divpage=74&no=435508\n",
      "[옥션] 토닉워터 홍차 300ml x24 이즈백(16,900/무배)\n",
      "https://www.ppomppu.co.kr/zboard/view.php?id=ppomppu&page=1&divpage=74&no=435507\n",
      "[지마켓]코카콜라 제로 190ml48캔(22,800/무료)\n",
      "https://www.ppomppu.co.kr/zboard/view.php?id=ppomppu&page=1&divpage=74&no=435506\n",
      "[11번가] 갤럭시 Z플립4 / Z폴드4 자급제폰 긴급공수! 최대 24% 할인+신세계 상품권 1만원 증정\n",
      "https://www.ppomppu.co.kr/zboard/view.php?id=pmarket&&no=280001\n",
      "자동차 와이퍼 이가격 말이됨? ㅋㅋ\n",
      "https://www.ppomppu.co.kr/zboard/view.php?id=pmarket&&no=280004\n",
      "[G마켓][10월03일][단 하루!][최대혜택가1,299->69.9만원] 삼성전자 비스포크 에어드레서 DF60A8500HG 의류관리기 3벌\n",
      "https://www.ppomppu.co.kr/zboard/view.php?id=pmarket&&no=280010\n",
      "[다농이네] 샤인머스켓, 사과, 배, 밤, 감말랭이 外(제철과일&채소) (12,900원)\n",
      "https://www.ppomppu.co.kr/hotdeal/?no=23726812\n",
      "위메프) 산지직송 완도 활전복 1kg(대 10~12미) 27,600원 무배\n",
      "https://www.ppomppu.co.kr/zboard/view.php?id=social&no=34765\n",
      "극한특가 발을 씻자 코튼풋샴푸 자몽향 체험팩\n",
      "https://www.ppomppu.co.kr/zboard/view.php?id=social&no=34764\n",
      "스마일카드1 (구형)로 120만원 결제하면 1.2만원 스마일캐시로 적립되는게 맞나요?\n",
      "https://www.ppomppu.co.kr/zboard/view.php?id=social&no=34763\n"
     ]
    }
   ],
   "source": [
    "from selenium.webdriver.common.by import By\n",
    "titles = driver.find_elements(By.CSS_SELECTOR,'#revolution_main_table > tbody > tr > td:nth-child(3) > table > tbody > tr > td:nth-child(2) > div > a > font')\n",
    "urls = driver.find_elements(By.CSS_SELECTOR,'#revolution_main_table > tbody > tr > td:nth-child(3) > table > tbody > tr > td:nth-child(2) > div > a')\n",
    "\n",
    "for i in range(len(titles)) : #revolution_main_table > tbody > tr:nth-child(13) > td:nth-child(3) > table > tbody > tr > td:nth-child(2) > div > a > font\n",
    "  print(titles[i].text)\n",
    "  print(urls[i].get_attribute('href'))"
   ]
  },
  {
   "cell_type": "code",
   "execution_count": 35,
   "metadata": {},
   "outputs": [],
   "source": [
    "import requests\n",
    "import json\n",
    "\n",
    "slack_webhook_url = \"\"\n",
    "\n",
    "def sendSlackWebhook(strText) :\n",
    "  headers = {\n",
    "    \"Content-tuype\" : \"application/json\"\n",
    "  }\n",
    "  data = {\n",
    "    \"text\" : strText \n",
    "  }\n",
    "\n",
    "  res = requests.post(slack_webhook_url, headers=headers, data=json.dumps(data))\n",
    "\n",
    "  if res.status_code == 200 :\n",
    "    return \"OK\"\n",
    "  else :\n",
    "    return \"Error\"\n",
    "\n",
    "\n",
    "for i in range(len(titles)) :\n",
    "  if \"만두\" in titles[i].text : \n",
    "    print(sendSlackWebhook(f'{titles[i].text}+\\n+{urls[i].get_attribute(\"href\")}'))"
   ]
  }
 ],
 "metadata": {
  "kernelspec": {
   "display_name": "Python 3.9.13 64-bit",
   "language": "python",
   "name": "python3"
  },
  "language_info": {
   "codemirror_mode": {
    "name": "ipython",
    "version": 3
   },
   "file_extension": ".py",
   "mimetype": "text/x-python",
   "name": "python",
   "nbconvert_exporter": "python",
   "pygments_lexer": "ipython3",
   "version": "3.9.13"
  },
  "orig_nbformat": 4,
  "vscode": {
   "interpreter": {
    "hash": "949777d72b0d2535278d3dc13498b2535136f6dfe0678499012e853ee9abcab1"
   }
  }
 },
 "nbformat": 4,
 "nbformat_minor": 2
}
