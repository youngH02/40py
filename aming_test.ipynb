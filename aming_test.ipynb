{
 "cells": [
  {
   "cell_type": "code",
   "execution_count": null,
   "metadata": {},
   "outputs": [],
   "source": [
    "from webdriver_manager.chrome import ChromeDriverManager\n",
    "from selenium import webdriver\n",
    "\n",
    "driver = webdriver.Chrome(ChromeDriverManager().install())\n",
    "URL = 'https://www.google.co.kr/imghp'\n",
    "driver.get(url=URL)\n",
    "\n",
    "driver.implicitly_wait(time_to_wait=10)"
   ]
  },
  {
   "cell_type": "code",
   "execution_count": null,
   "metadata": {},
   "outputs": [],
   "source": [
    "from selenium.webdriver.common.keys import Keys\n",
    "from selenium.webdriver.common.by import By\n",
    "driver.find_element(By.CSS_SELECTOR,\"#prod_options > div > div > div.form-select-wrap._form_select_wrap_O2022091863272f24c9d38 > a\").send_keys(Keys.ENTER)\n",
    "time.sleep(0.2)\n",
    "driver.find_element(By.CSS_SELECTOR,\"#prod_options > div > div > div.form-select-wrap._form_select_wrap_O2022091863272f24c9d38.open > div > div:nth-child(3) > a\").send_keys(Keys.ENTER)\n",
    "time.sleep(0.2)\n",
    "\n",
    "driver.find_element(By.CSS_SELECTOR,\"#prdOption0 > div > div.area_count.holder > div.option_btn_wrap > div > a:nth-child(3)\").send_keys(Keys.ENTER)\n",
    "time.sleep(0.2)\n",
    "\n",
    "#prdOption0 > div > div.area_count.holder > div.option_btn_wrap > div > a:nth-child(3)\n",
    "#prdOption0 > div > div.area_count.holder > div.option_btn_wrap > div > a:nth-child(3)\n",
    "#prdOption0 > div > div.area_count.holder > div.option_btn_wrap > div > input\n",
    "#prdOption0 > div > div.area_count.holder > div.option_btn_wrap > div > a:nth-child(1)\n",
    "\n",
    "elem = driver.find_element(By.CSS_SELECTOR,\"#prod_goods_form > div.buy_btns.holder.pc.clearfix > a.btn.buy.bg-brand._btn_buy\").send_keys(Keys.ENTER)\n",
    "#prod_options > div > div > div.form-select-wrap._form_select_wrap_O20220920632957e150054 > a\n",
    "#prod_options > div > div > div.form-select-wrap._form_select_wrap_O2022091863272f24c9d38 > a\n",
    "#prod_options > div > div > div.form-select-wrap._form_select_wrap_O2022091863272f24c9d38.open > a\n",
    "#prod_goods_form > div.buy_btns.holder.pc.clearfix > a.btn.buy.bg-brand._btn_buy\n",
    "\n",
    "#prod_options > div > div > div.form-select-wrap._form_select_wrap_O2022091863272f24c9d38.open > div > div:nth-child(1) > a\n",
    "#prod_options > div > div > div.form-select-wrap._form_select_wrap_O2022091863272f24c9d38.open > div > div:nth-child(2) > a\n"
   ]
  },
  {
   "cell_type": "code",
   "execution_count": null,
   "metadata": {},
   "outputs": [],
   "source": [
    "from selenium.webdriver.common.keys import Keys\n",
    "from selenium.webdriver.common.by import By\n",
    "driver.find_element(By.CSS_SELECTOR,\"#prod_options > div > div > div.form-select-wrap._form_select_wrap_O2022091863272f24c9d38 > a\").send_keys(Keys.ENTER)\n",
    "time.sleep(0.2)\n",
    "driver.find_element(By.CSS_SELECTOR,\"#prod_options > div > div > div.form-select-wrap._form_select_wrap_O2022091863272f24c9d38.open > div > div:nth-child(3) > a\").send_keys(Keys.ENTER)\n",
    "time.sleep(0.2)\n",
    "\n",
    "driver.find_element(By.CSS_SELECTOR,\"#prdOption0 > div > div.area_count.holder > div.option_btn_wrap > div > a:nth-child(3)\").send_keys(Keys.ENTER)\n",
    "time.sleep(0.2)\n",
    "\n",
    "#prdOption0 > div > div.area_count.holder > div.option_btn_wrap > div > a:nth-child(3)\n",
    "#prdOption0 > div > div.area_count.holder > div.option_btn_wrap > div > a:nth-child(3)\n",
    "#prdOption0 > div > div.area_count.holder > div.option_btn_wrap > div > input\n",
    "#prdOption0 > div > div.area_count.holder > div.option_btn_wrap > div > a:nth-child(1)\n",
    "\n",
    "elem = driver.find_element(By.CSS_SELECTOR,\"#prod_goods_form > div.buy_btns.holder.pc.clearfix > a.btn.buy.bg-brand._btn_buy\").send_keys(Keys.ENTER)\n",
    "#prod_options > div > div > div.form-select-wrap._form_select_wrap_O20220920632957e150054 > a\n",
    "#prod_options > div > div > div.form-select-wrap._form_select_wrap_O2022091863272f24c9d38 > a\n",
    "#prod_options > div > div > div.form-select-wrap._form_select_wrap_O2022091863272f24c9d38.open > a\n",
    "#prod_goods_form > div.buy_btns.holder.pc.clearfix > a.btn.buy.bg-brand._btn_buy\n",
    "\n",
    "#prod_options > div > div > div.form-select-wrap._form_select_wrap_O2022091863272f24c9d38.open > div > div:nth-child(1) > a\n",
    "#prod_options > div > div > div.form-select-wrap._form_select_wrap_O2022091863272f24c9d38.open > div > div:nth-child(2) > a\n"
   ]
  }
 ],
 "metadata": {
  "kernelspec": {
   "display_name": "Python 3.8.10 64-bit",
   "language": "python",
   "name": "python3"
  },
  "language_info": {
   "name": "python",
   "version": "3.8.10"
  },
  "orig_nbformat": 4,
  "vscode": {
   "interpreter": {
    "hash": "aee8b7b246df8f9039afb4144a1f6fd8d2ca17a180786b69acc140d282b71a49"
   }
  }
 },
 "nbformat": 4,
 "nbformat_minor": 2
}
