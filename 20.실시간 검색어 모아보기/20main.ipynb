{
 "cells": [
  {
   "cell_type": "code",
   "execution_count": 35,
   "metadata": {},
   "outputs": [
    {
     "name": "stderr",
     "output_type": "stream",
     "text": [
      "/var/folders/pf/0w2pfxvx593256s1zylmpvhc0000gn/T/ipykernel_12404/2588391722.py:7: DeprecationWarning: executable_path has been deprecated, please pass in a Service object\n",
      "  driver = webdriver.Chrome(ChromeDriverManager().install())\n"
     ]
    }
   ],
   "source": [
    "#pip install selenium\n",
    "#pip install webdriver-manager\n",
    "\n",
    "from selenium import webdriver\n",
    "from webdriver_manager.chrome import ChromeDriverManager\n",
    "\n",
    "driver = webdriver.Chrome(ChromeDriverManager().install())\n",
    "\n",
    "URL = 'https://www.google.co.kr'\n",
    "driver.get(url=URL)\n",
    "driver.implicitly_wait(time_to_wait=10)\n",
    "\n"
   ]
  },
  {
   "cell_type": "code",
   "execution_count": 36,
   "metadata": {},
   "outputs": [],
   "source": [
    "from selenium.webdriver.common.by import By\n",
    "\n",
    "#driver = webdriver.Chrome(ChromeDriverManager().install())\n",
    "URL = 'https://signal.bz/news' #네이버 실시간 검색 사이트\n",
    "driver.get(url=URL)\n",
    "driver.implicitly_wait(time_to_wait=10)\n",
    "\n",
    "\n",
    "naver_results = driver.find_elements(By.CSS_SELECTOR, '#app > div > main > div > section > div > section > section:nth-child(2) > div:nth-child(2) > div > div > div > a > span.rank-text')\n",
    "#app > div > main > div > section > div > section > section:nth-child(2) > div:nth-child(2) > div > div:nth-child(1) > div:nth-child(1) > a > span.rank-text\n",
    "#app > div > main > div > section > div > section > section:nth-child(2) > div:nth-child(2) > div > div:nth-child(1) > div:nth-child(2) > a > span.rank-text\n",
    "#app > div > main > div > section > div > section > section:nth-child(2) > div:nth-child(2) > div > div:nth-child(2) > div:nth-child(1) > a > span.rank-text\n",
    "#app > div > main > div > section > div > section > section:nth-child(2) > div:nth-child(2) > div > div:nth-child(2) > div:nth-child(2) > a > span.rank-text\n",
    "\n",
    "naver_list = []\n",
    "for naver_result in naver_results :\n",
    "  #print(naver_result.text)\n",
    "  naver_list.append(naver_result.text)"
   ]
  },
  {
   "cell_type": "code",
   "execution_count": 37,
   "metadata": {},
   "outputs": [],
   "source": [
    "#driver = webdriver.Chrome(ChromeDriverManager().install())\n",
    "URL = 'https://www.nate.com' #네이트 실시간 검색 사이트\n",
    "driver.get(url=URL)\n",
    "driver.implicitly_wait(time_to_wait=10)\n",
    "\n",
    "\n",
    "#실시간 이슈키워드를 하나 클릭하여 추가로 키워드 추출\n",
    "driver.find_element(By.CSS_SELECTOR, '#olLiveIssueKeyword > li:nth-child(1) > a > span.txt_rank').click()\n",
    "nate_results = driver.find_elements(By.CSS_SELECTOR, '#search-option > form:nth-child(1) > fieldset > div.issue-kwd > span > a')\n",
    "\n",
    "nate_list = []\n",
    "for nate_result in nate_results :\n",
    "  #print(nate_result.text)\n",
    "  nate_list.append(nate_result.text)\n",
    "\n",
    "  "
   ]
  },
  {
   "cell_type": "code",
   "execution_count": 38,
   "metadata": {},
   "outputs": [],
   "source": [
    "import time\n",
    "#driver = webdriver.Chrome(ChromeDriverManager().install())\n",
    "URL = 'https://zum.com' #줌 사이트\n",
    "driver.get(url=URL)\n",
    "driver.implicitly_wait(time_to_wait=10)\n",
    "\n",
    "\n",
    "#아무거나 검색 후 이슈 검색어를 찾음\n",
    "driver.find_element(By.CSS_SELECTOR, '#app > div > header > div.search_bar > div > fieldset > div > input[type=text]').send_keys(\"오늘 이슈\")\n",
    "time.sleep(1)\n",
    "driver.find_element(By.CSS_SELECTOR,'#app > div > header > div.search_bar > div > fieldset > div > button.search').click()\n",
    "time.sleep(1)\n",
    "\n",
    "zoom_results = driver.find_elements(By.CSS_SELECTOR, '#relatedKeywordList > a')\n",
    "\n",
    "zoom_list = []\n",
    "for zoom_result in zoom_results :\n",
    "  #print(zoom_result.text)\n",
    "  zoom_list.append(zoom_result.text)"
   ]
  },
  {
   "cell_type": "code",
   "execution_count": 39,
   "metadata": {},
   "outputs": [
    {
     "name": "stdout",
     "output_type": "stream",
     "text": [
      "네이버 ['월수금 화목토', '나는 솔로', '조은숙', '오후 3만 확진', '김종민', '송가인', '골 때리는 그녀들', '푸틴', '아이유', '전주환']\n",
      "네이트 ['월수금 화목토', '나는 솔로', '오후 3만 확진', '골 때리는 그녀들', '악귀 김은희 오정세', '대통령실 한미 한일은', '경찰 구속영장 신청', '미국증시', '임사랑', '항의하는 김원형 감독']\n",
      "줌 ['이슈', '오늘의유머', '칼럼', '코트 오늘의이슈', '오늘의신문', '알지롱넷', '오늘의 뉴스', 'te31', '자게이', '보배드림', '빅풋9', '카카오스토리오늘의이슈', '노래하는코트 오늘의이슈', '오슈']\n"
     ]
    }
   ],
   "source": [
    "print(\"네이버\" ,naver_list)\n",
    "print(\"네이트\" ,nate_list)\n",
    "print(\"줌\" ,zoom_list)"
   ]
  }
 ],
 "metadata": {
  "kernelspec": {
   "display_name": "Python 3.9.13 64-bit",
   "language": "python",
   "name": "python3"
  },
  "language_info": {
   "codemirror_mode": {
    "name": "ipython",
    "version": 3
   },
   "file_extension": ".py",
   "mimetype": "text/x-python",
   "name": "python",
   "nbconvert_exporter": "python",
   "pygments_lexer": "ipython3",
   "version": "3.9.13"
  },
  "orig_nbformat": 4,
  "vscode": {
   "interpreter": {
    "hash": "949777d72b0d2535278d3dc13498b2535136f6dfe0678499012e853ee9abcab1"
   }
  }
 },
 "nbformat": 4,
 "nbformat_minor": 2
}
